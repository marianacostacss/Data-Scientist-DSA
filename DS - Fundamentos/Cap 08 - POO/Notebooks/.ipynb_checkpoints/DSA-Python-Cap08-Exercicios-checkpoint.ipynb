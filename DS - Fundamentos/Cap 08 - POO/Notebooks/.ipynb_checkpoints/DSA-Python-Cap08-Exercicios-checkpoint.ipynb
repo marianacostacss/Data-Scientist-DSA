{
 "cells": [
  {
   "cell_type": "markdown",
   "metadata": {},
   "source": [
    "# <font color='blue'>Data Science Academy</font>\n",
    "\n",
    "## <font color='blue'>Fundamentos de Linguagem Python Para Análise de Dados e Data Science</font>\n",
    "\n",
    "## <font color='blue'>Introdução à Programação Orientada a Objetos</font>"
   ]
  },
  {
   "cell_type": "code",
   "execution_count": 1,
   "metadata": {},
   "outputs": [
    {
     "name": "stdout",
     "output_type": "stream",
     "text": [
      "Versão da Linguagem Python Usada Neste Jupyter Notebook: 3.9.13\n"
     ]
    }
   ],
   "source": [
    "# Versão da Linguagem Python\n",
    "from platform import python_version\n",
    "print('Versão da Linguagem Python Usada Neste Jupyter Notebook:', python_version())"
   ]
  },
  {
   "cell_type": "markdown",
   "metadata": {},
   "source": [
    "## Exercícios"
   ]
  },
  {
   "cell_type": "code",
   "execution_count": 7,
   "metadata": {},
   "outputs": [],
   "source": [
    "# Exercício 1 - Crie um objeto a partir da classe abaixo, chamado roc1, \n",
    "# passando 2 parâmetros e depois faça uma chamada aos atributos e métodos\n",
    "\n",
    "# Importa a função sqrt do módulo math, que pode ser útil para cálculos futuros (não usada neste exemplo, mas boa prática).\n",
    "from math import sqrt\n",
    "\n",
    "# Define uma classe chamada Rocket, que representa um foguete em um plano bidimensional.\n",
    "class Rocket():\n",
    "     \n",
    "    def __init__(self, x=0, y=0):\n",
    "        \"\"\"\n",
    "        Método construtor da classe Rocket.\n",
    "        Inicializa os atributos x e y, que representam a posição do foguete no plano.\n",
    "        Os valores padrão são 0 para ambos os atributos.\n",
    "        \"\"\"\n",
    "        self.x = x\n",
    "        self.y = y\n",
    "        \n",
    "    def move_rocket(self, x_increment=0, y_increment=1):\n",
    "        \"\"\"\n",
    "        Método para mover o foguete no plano, alterando suas coordenadas x e y.\n",
    "        - x_increment: Valor pelo qual x será incrementado (padrão é 0).\n",
    "        - y_increment: Valor pelo qual y será incrementado (padrão é 1).\n",
    "        \"\"\"\n",
    "        self.x += x_increment  # Incrementa o valor de x.\n",
    "        self.y += y_increment  # Incrementa o valor de y.\n",
    "        \n",
    "    def print_rocket(self):\n",
    "        \"\"\"\n",
    "        Método para exibir a posição atual do foguete no plano.\n",
    "        Imprime os valores dos atributos x e y.\n",
    "        \"\"\"\n",
    "        print(self.x, self.y)"
   ]
  },
  {
   "cell_type": "code",
   "execution_count": 5,
   "metadata": {},
   "outputs": [
    {
     "name": "stdout",
     "output_type": "stream",
     "text": [
      "10 20\n"
     ]
    }
   ],
   "source": [
    "# Exemplo de uso:\n",
    "\n",
    "# Cria um objeto da classe Rocket chamado roc1, passando valores iniciais para x e y.\n",
    "roc1 = Rocket(10, 20)  \n",
    "\n",
    "# Faz uma chamada ao método print_rocket para exibir a posição inicial do foguete.\n",
    "roc1.print_rocket()  # Saída esperada: 10 20"
   ]
  },
  {
   "cell_type": "code",
   "execution_count": 6,
   "metadata": {},
   "outputs": [
    {
     "name": "stdout",
     "output_type": "stream",
     "text": [
      "15 10\n"
     ]
    }
   ],
   "source": [
    "# Move o foguete usando o método move_rocket, passando incrementos para x e y.\n",
    "roc1.move_rocket(5, -10)\n",
    "\n",
    "# Exibe novamente a posição atualizada do foguete.\n",
    "roc1.print_rocket()  # Saída esperada: 15 10"
   ]
  },
  {
   "cell_type": "code",
   "execution_count": 10,
   "metadata": {},
   "outputs": [],
   "source": [
    "class Pessoa():\n",
    "    \n",
    "    def __init__(self, nome, cidade, telefone, email):\n",
    "        \"\"\"\n",
    "        Método construtor para inicializar os atributos nome, cidade, telefone e e-mail.\n",
    "        \"\"\"\n",
    "        self.nome = nome\n",
    "        self.cidade = cidade\n",
    "        self.telefone = telefone\n",
    "        self.email = email\n",
    "        \n",
    "    def imprimetudo(self):\n",
    "        \"\"\"\n",
    "        Método para exibir todas as informações da pessoa.\n",
    "        \"\"\"\n",
    "        print('Nome: ', self.nome)\n",
    "        print('Cidade: ', self.cidade)\n",
    "        print('Telefone: ', self.telefone)\n",
    "        print('E-mail: ', self.email)\n",
    "    \n",
    "    def olapessoa(self):\n",
    "        \"\"\"\n",
    "        Método que exibe uma saudação personalizada para a pessoa.\n",
    "        \"\"\"\n",
    "        print(f'Olá, {self.nome}, como vão as coisas aí em {self.cidade}?')\n",
    "    \n",
    "    def mensagem(self):\n",
    "        \"\"\"\n",
    "        Método que exibe uma mensagem informando que algo foi enviado para o telefone.\n",
    "        \"\"\"\n",
    "        print(f'A mensagem de confirmação foi enviada para {self.telefone}. Favor verificar!')"
   ]
  },
  {
   "cell_type": "code",
   "execution_count": 11,
   "metadata": {},
   "outputs": [
    {
     "name": "stdout",
     "output_type": "stream",
     "text": [
      "Nome:  João\n",
      "Cidade:  São Paulo\n",
      "Telefone:  1234-5678\n",
      "E-mail:  joao@email.com\n",
      "Olá, João, como vão as coisas aí em São Paulo?\n",
      "A mensagem de confirmação foi enviada para 1234-5678. Favor verificar!\n"
     ]
    }
   ],
   "source": [
    "# Exemplo de uso:\n",
    "# Criando um objeto da classe Pessoa\n",
    "pessoa1 = Pessoa(\"João\", \"São Paulo\", \"1234-5678\", \"joao@email.com\")\n",
    "\n",
    "# Chamando os métodos especiais\n",
    "pessoa1.imprimetudo()\n",
    "pessoa1.olapessoa()\n",
    "pessoa1.mensagem()"
   ]
  },
  {
   "cell_type": "code",
   "execution_count": 16,
   "metadata": {},
   "outputs": [],
   "source": [
    "# Exercício 3 - Crie a classe Smartphone com 2 atributos, tamanho e interface \n",
    "\n",
    "#criando superclasse smartphone\n",
    "\n",
    "class Smartphone:\n",
    "    \n",
    "    #construindo os atributos da classe\n",
    "    def __init__(self, nome, tamanho, interface):\n",
    "        self.nome = nome\n",
    "        self.tamanho = tamanho\n",
    "        self.interface = interface\n",
    "        print('Smartphone registrado')\n",
    "    \n",
    "    #método extra\n",
    "    def imprimirtudo(self):\n",
    "        print('Nome: ', self.nome)\n",
    "        print('Tamanho: ', self.tamanho)\n",
    "        print('Interface: ', self.interface)\n"
   ]
  },
  {
   "cell_type": "code",
   "execution_count": 17,
   "metadata": {},
   "outputs": [
    {
     "name": "stdout",
     "output_type": "stream",
     "text": [
      "Smartphone registrado\n"
     ]
    }
   ],
   "source": [
    "fone1 = Smartphone(\"Nókia\", 15,\"Android\")"
   ]
  },
  {
   "cell_type": "code",
   "execution_count": 18,
   "metadata": {},
   "outputs": [
    {
     "name": "stdout",
     "output_type": "stream",
     "text": [
      "Nome:  Nókia\n",
      "Tamanho:  15\n",
      "Interface:  Android\n"
     ]
    }
   ],
   "source": [
    "fone1.imprimirtudo()"
   ]
  },
  {
   "cell_type": "code",
   "execution_count": 34,
   "metadata": {},
   "outputs": [],
   "source": [
    "# Crie a classe MP3Player com o atributo capacidade. \n",
    "# A classe MP3player deve herdar os atributos da classe Smartphone.\n",
    "\n",
    "# Criando classe filha\n",
    "class MP3Player (Smartphone):\n",
    "    \n",
    "    #método construtor\n",
    "    def __init__ (self, nome, tamanho, interface, capacidade):\n",
    "        self.capacidade = capacidade\n",
    "        #busca as informações da classe super\n",
    "        super().__init__(nome, tamanho, interface)\n",
    "        #imprimir registro\n",
    "        print('MP3Player registrado')\n",
    "        \n",
    "    # método para imprimir tudo\n",
    "    def print_mp3player(self):\n",
    "            print(\"Valores para o objeto criado: %s, %s polegadas, %s, %s\"  %(self.nome, self.tamanho, self.interface, self.capacidade))\n"
   ]
  },
  {
   "cell_type": "code",
   "execution_count": 35,
   "metadata": {},
   "outputs": [
    {
     "name": "stdout",
     "output_type": "stream",
     "text": [
      "Smartphone registrado\n",
      "MP3Player registrado\n"
     ]
    }
   ],
   "source": [
    "mechen = MP3Player('Mechen', 7, 'Android', '32MB')"
   ]
  },
  {
   "cell_type": "code",
   "execution_count": 36,
   "metadata": {},
   "outputs": [
    {
     "name": "stdout",
     "output_type": "stream",
     "text": [
      "Valores para o objeto criado: Mechen, 7 polegadas, Android, 32MB\n"
     ]
    }
   ],
   "source": [
    "mechen.print_mp3player()"
   ]
  },
  {
   "cell_type": "markdown",
   "metadata": {},
   "source": [
    "### FIM"
   ]
  },
  {
   "cell_type": "markdown",
   "metadata": {},
   "source": [
    "### Obrigado\n",
    "\n",
    "### Visite o Blog da Data Science Academy - <a href=\"http://blog.dsacademy.com.br\">Blog DSA</a>"
   ]
  }
 ],
 "metadata": {
  "kernelspec": {
   "display_name": "Python 3 (ipykernel)",
   "language": "python",
   "name": "python3"
  },
  "language_info": {
   "codemirror_mode": {
    "name": "ipython",
    "version": 3
   },
   "file_extension": ".py",
   "mimetype": "text/x-python",
   "name": "python",
   "nbconvert_exporter": "python",
   "pygments_lexer": "ipython3",
   "version": "3.9.13"
  }
 },
 "nbformat": 4,
 "nbformat_minor": 1
}
