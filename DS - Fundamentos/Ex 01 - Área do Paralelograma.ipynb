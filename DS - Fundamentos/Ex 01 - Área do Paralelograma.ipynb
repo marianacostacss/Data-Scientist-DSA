{
 "cells": [
  {
   "cell_type": "markdown",
   "id": "a4e58b53",
   "metadata": {},
   "source": [
    "Utilizando a lógica a baixo, vamos criar um prohrama para calcular a área de um paralelograma, cujas medidas seão fornecidas pelo usuário.\n",
    "\n",
    "\n",
    "Declare comprimento, altura, area\n",
    " Obtenha comprimento do usuário\n",
    " Obtenha altura do usuário\n",
    " area <- comprimento * altura\n",
    " Imprima \"A área do paralelograma é:\" + are"
   ]
  },
  {
   "cell_type": "code",
   "execution_count": 1,
   "id": "422925ce",
   "metadata": {},
   "outputs": [
    {
     "name": "stdout",
     "output_type": "stream",
     "text": [
      "Digite o comprimento do paralelogramo: 3\n",
      "Digite a altura do paralelogramo: 5\n",
      "A área do paralelogramo é: 15.0\n"
     ]
    }
   ],
   "source": [
    "# Declarando as variáveis\n",
    "comprimento = 0\n",
    "altura = 0\n",
    "area = 0\n",
    "\n",
    "# Obtendo o comprimento do usuário\n",
    "comprimento = float(input(\"Digite o comprimento do paralelogramo: \"))\n",
    "\n",
    "# Obtendo a altura do usuário\n",
    "altura = float(input(\"Digite a altura do paralelogramo: \"))\n",
    "\n",
    "# Calculando a área\n",
    "area = comprimento * altura\n",
    "\n",
    "# Exibindo o resultado\n",
    "print(\"A área do paralelogramo é:\", area)\n"
   ]
  },
  {
   "cell_type": "code",
   "execution_count": null,
   "id": "10ac6ddc",
   "metadata": {},
   "outputs": [],
   "source": []
  }
 ],
 "metadata": {
  "kernelspec": {
   "display_name": "Python 3 (ipykernel)",
   "language": "python",
   "name": "python3"
  },
  "language_info": {
   "codemirror_mode": {
    "name": "ipython",
    "version": 3
   },
   "file_extension": ".py",
   "mimetype": "text/x-python",
   "name": "python",
   "nbconvert_exporter": "python",
   "pygments_lexer": "ipython3",
   "version": "3.9.13"
  }
 },
 "nbformat": 4,
 "nbformat_minor": 5
}
