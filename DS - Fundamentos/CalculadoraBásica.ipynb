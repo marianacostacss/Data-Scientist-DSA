{
 "cells": [
  {
   "cell_type": "markdown",
   "id": "1149c08c",
   "metadata": {},
   "source": [
    "Calculadora em Python\n",
    "\n",
    "Desenvolva uma calculadora em Python com tudo que você aprendeu nos capítulos até aqui no curso. \n",
    "A solução será apresentada no próximo capítulo!"
   ]
  },
  {
   "cell_type": "code",
   "execution_count": 5,
   "id": "c84affd5",
   "metadata": {},
   "outputs": [
    {
     "name": "stdout",
     "output_type": "stream",
     "text": [
      "Seja Bem-Vindo\n",
      "\n",
      "Escolha o número referente à operação:\n",
      "1 - Adição\n",
      "2 - Subtração\n",
      "3 - Multiplicação\n",
      "4 - Divisão\n",
      "5 - Exponensial\n",
      "Número da operação4\n",
      "Digite o primeiro numero: 1\n",
      "Digite o segundo número: 0\n",
      "Não é possível realizar a divisão por zero!\n"
     ]
    }
   ],
   "source": [
    "def calculadora():\n",
    "    \n",
    "    #Inicialização\n",
    "    print('Seja Bem-Vindo')\n",
    "    print('\\nEscolha o número referente à operação:')\n",
    "    print('1 - Adição')\n",
    "    print('2 - Subtração')\n",
    "    print('3 - Multiplicação')\n",
    "    print('4 - Divisão')\n",
    "    print('5 - Exponensial')\n",
    "\n",
    "    #identificação da operação\n",
    "    operacao = int(input('Número da operação'))\n",
    "    \n",
    "    #conferência de possibilidade\n",
    "    if operacao not in range(1,6):\n",
    "        print('Operação não reconhecida')\n",
    "        print('\\nInsira uma operação válida.')\n",
    "        return\n",
    "    \n",
    "    #coleta dos números a serem acalculados\n",
    "    try:#se não float, retornar erro\n",
    "        num1 = float(input('Digite o primeiro numero: '))\n",
    "        num2 = float(input('Digite o segundo número: '))\n",
    "    except ValueError:\n",
    "        print('Número inválido.')\n",
    "        return\n",
    "        \n",
    "    #cálculo\n",
    "    if operacao == 1:\n",
    "        resultado = num1 + num2\n",
    "        print(f'O resultado da adição entre {num1} e {num2} é: {resultado}.')\n",
    "    elif operacao == 2:\n",
    "        resultado = num1 - num2\n",
    "        print(f'O resultado da subtração entre {num1} e {num2} é: {resultado}.')\n",
    "    elif operacao == 3:\n",
    "        resultado = num1 * num2\n",
    "        print(f'O resultado da multiplicação entre {num1} e {num2} é: {resultado}.')\n",
    "    elif operacao == 4:\n",
    "        if num2 == 0: #a divisão por zero ocasiona um erro no código\n",
    "            print('Não é possível realizar a divisão por zero!')\n",
    "            return\n",
    "        else:\n",
    "            resultado = num1 / num2\n",
    "            print(f'O resultado da divisão entre {num1} e {num2} é: {resultado}.')\n",
    "    else:\n",
    "        resultado = num1 ** num2\n",
    "        print(f'O resultado da exponenciação entre {num1} e {num2} é: {resultado}.')\n",
    "        \n",
    "calculadora()"
   ]
  }
 ],
 "metadata": {
  "kernelspec": {
   "display_name": "Python 3 (ipykernel)",
   "language": "python",
   "name": "python3"
  },
  "language_info": {
   "codemirror_mode": {
    "name": "ipython",
    "version": 3
   },
   "file_extension": ".py",
   "mimetype": "text/x-python",
   "name": "python",
   "nbconvert_exporter": "python",
   "pygments_lexer": "ipython3",
   "version": "3.9.13"
  }
 },
 "nbformat": 4,
 "nbformat_minor": 5
}
