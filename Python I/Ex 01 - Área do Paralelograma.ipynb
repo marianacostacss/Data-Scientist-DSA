{
 "cells": [
  {
   "cell_type": "markdown",
   "id": "a4e58b53",
   "metadata": {},
   "source": [
    "Utilizando a lógica a baixo, vamos criar um prohrama para calcular a área de um paralelograma, cujas medidas seão fornecidas pelo usuário.\n",
    "\n",
    "\n",
    "Declare comprimento, altura, area\n",
    " Obtenha comprimento do usuário\n",
    " Obtenha altura do usuário\n",
    " area <- comprimento * altura\n",
    " Imprima \"A área do paralelograma é:\" + are"
   ]
  },
  {
   "cell_type": "code",
   "execution_count": null,
   "id": "422925ce",
   "metadata": {},
   "outputs": [],
   "source": []
  },
  {
   "cell_type": "code",
   "execution_count": null,
   "id": "d81638de",
   "metadata": {},
   "outputs": [],
   "source": []
  }
 ],
 "metadata": {
  "kernelspec": {
   "display_name": "Python 3 (ipykernel)",
   "language": "python",
   "name": "python3"
  },
  "language_info": {
   "codemirror_mode": {
    "name": "ipython",
    "version": 3
   },
   "file_extension": ".py",
   "mimetype": "text/x-python",
   "name": "python",
   "nbconvert_exporter": "python",
   "pygments_lexer": "ipython3",
   "version": "3.9.13"
  }
 },
 "nbformat": 4,
 "nbformat_minor": 5
}
