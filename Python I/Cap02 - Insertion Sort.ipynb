{
 "cells": [
  {
   "cell_type": "markdown",
   "id": "e027e67f",
   "metadata": {},
   "source": [
    "Vamos criar uma função utilizando a lógica abaixo para criar ordenar uma lista de valores fornecida\n",
    "\n",
    "Solicitar ao usuário que insira números separados por espaços.\n",
    "Converter a entrada em uma lista de números (por exemplo, inteiros ou decimais).\n",
    "\n",
    "Percorrer a lista de números, começando do segundo elemento (índice 1) até o final.\n",
    "Para cada elemento atual (chamado \"chave\"):\n",
    "\n",
    "Comparar a \"chave\" com os elementos anteriores na lista (da direita para a esquerda).\n",
    "Enquanto os elementos anteriores forem maiores que a \"chave\":\n",
    "Mover esses elementos uma posição para a frente.\n",
    "Inserir a \"chave\" na posição correta."
   ]
  },
  {
   "cell_type": "code",
   "execution_count": 1,
   "id": "ee903bd6",
   "metadata": {},
   "outputs": [
    {
     "name": "stdout",
     "output_type": "stream",
     "text": [
      "Digite uma lista de números separados por espaço: 45 2 7 8 34 78987 765 32 4\n",
      "Lista ordenada: [2.0, 4.0, 7.0, 8.0, 32.0, 34.0, 45.0, 765.0, 78987.0]\n"
     ]
    },
    {
     "data": {
      "text/plain": [
       "[2.0, 4.0, 7.0, 8.0, 32.0, 34.0, 45.0, 765.0, 78987.0]"
      ]
     },
     "execution_count": 1,
     "metadata": {},
     "output_type": "execute_result"
    }
   ],
   "source": [
    "def ordenar_lista():\n",
    "    # Solicita ao usuário que insira números separados por espaço\n",
    "    entrada = input(\"Digite uma lista de números separados por espaço: \")\n",
    "\n",
    "    # Converte os números da entrada em uma lista de floats\n",
    "    numeros = list(map(float, entrada.split()))\n",
    "    \n",
    "\n",
    "    # Implementa a ordenação manualmente usando Insertion Sort\n",
    "    for i in range(1, len(numeros)):\n",
    "        chave = numeros[i]\n",
    "        j = i - 1\n",
    "        # Move os elementos maiores que a chave uma posição à frente\n",
    "        while j >= 0 and numeros[j] > chave:\n",
    "            numeros[j + 1] = numeros[j]\n",
    "            j -= 1\n",
    "        numeros[j + 1] = chave\n",
    "\n",
    "    # Imprime a lista ordenada\n",
    "    print(\"Lista ordenada:\", numeros)\n",
    "    return numeros\n",
    "\n",
    "# Chama a função\n",
    "ordenar_lista()\n"
   ]
  }
 ],
 "metadata": {
  "kernelspec": {
   "display_name": "Python 3 (ipykernel)",
   "language": "python",
   "name": "python3"
  },
  "language_info": {
   "codemirror_mode": {
    "name": "ipython",
    "version": 3
   },
   "file_extension": ".py",
   "mimetype": "text/x-python",
   "name": "python",
   "nbconvert_exporter": "python",
   "pygments_lexer": "ipython3",
   "version": "3.9.13"
  }
 },
 "nbformat": 4,
 "nbformat_minor": 5
}
